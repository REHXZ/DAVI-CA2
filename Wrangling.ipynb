{
 "cells": [
  {
   "cell_type": "code",
   "execution_count": 141,
   "metadata": {},
   "outputs": [],
   "source": [
    "import pandas as pd"
   ]
  },
  {
   "cell_type": "code",
   "execution_count": 142,
   "metadata": {},
   "outputs": [],
   "source": [
    "Course_Code = pd.read_excel('Data and metadata/Course Codes.xlsx')"
   ]
  },
  {
   "cell_type": "code",
   "execution_count": 143,
   "metadata": {},
   "outputs": [],
   "source": [
    "Student = pd.read_excel('Data and metadata/Student Profiles.xlsx')"
   ]
  },
  {
   "cell_type": "code",
   "execution_count": 144,
   "metadata": {},
   "outputs": [
    {
     "data": {
      "text/html": [
       "<div>\n",
       "<style scoped>\n",
       "    .dataframe tbody tr th:only-of-type {\n",
       "        vertical-align: middle;\n",
       "    }\n",
       "\n",
       "    .dataframe tbody tr th {\n",
       "        vertical-align: top;\n",
       "    }\n",
       "\n",
       "    .dataframe thead th {\n",
       "        text-align: right;\n",
       "    }\n",
       "</style>\n",
       "<table border=\"1\" class=\"dataframe\">\n",
       "  <thead>\n",
       "    <tr style=\"text-align: right;\">\n",
       "      <th></th>\n",
       "      <th>STUDENT ID</th>\n",
       "      <th>SALUTATION</th>\n",
       "      <th>GENDER</th>\n",
       "      <th>NATIONALITY</th>\n",
       "      <th>LOCAL</th>\n",
       "      <th>FOREIGN</th>\n",
       "      <th>DOB</th>\n",
       "      <th>HIGHEST QUALIFICATION</th>\n",
       "      <th>NAME OF QUALIFICATION AND INSTITUTION</th>\n",
       "      <th>DATE ATTAINED HIGHEST QUALIFICATION</th>\n",
       "      <th>DESIGNATION</th>\n",
       "      <th>INTAKE NO</th>\n",
       "      <th>COMMENCEMENT DATE</th>\n",
       "      <th>COMPLETION DATE</th>\n",
       "      <th>COURSE FUNDING</th>\n",
       "      <th>REGISTRATION FEE</th>\n",
       "      <th>PAYMENT MODE</th>\n",
       "      <th>COURSE FEE</th>\n",
       "      <th>GPA</th>\n",
       "    </tr>\n",
       "  </thead>\n",
       "  <tbody>\n",
       "    <tr>\n",
       "      <th>0</th>\n",
       "      <td>2020/1101-013/001</td>\n",
       "      <td>Ms</td>\n",
       "      <td>F</td>\n",
       "      <td>Singaporean</td>\n",
       "      <td>Y</td>\n",
       "      <td></td>\n",
       "      <td>04/03/1978</td>\n",
       "      <td>Certificate</td>\n",
       "      <td>Certificate in Office Skills, ITE</td>\n",
       "      <td>2016-11-06</td>\n",
       "      <td>Snr Associate, Client Services</td>\n",
       "      <td>13th</td>\n",
       "      <td>2020-01-06</td>\n",
       "      <td>2021-04-06 00:00:00</td>\n",
       "      <td>Individual - SFC</td>\n",
       "      <td>107</td>\n",
       "      <td>NETS</td>\n",
       "      <td>1712</td>\n",
       "      <td>3.0</td>\n",
       "    </tr>\n",
       "    <tr>\n",
       "      <th>1</th>\n",
       "      <td>2020/1101-013/002</td>\n",
       "      <td>Ms</td>\n",
       "      <td>F</td>\n",
       "      <td>Singaporean</td>\n",
       "      <td>Y</td>\n",
       "      <td></td>\n",
       "      <td>23/03/1966</td>\n",
       "      <td>Certificate</td>\n",
       "      <td>WSQ Higher Certificate in Human Resources, WPL...</td>\n",
       "      <td>2018-02-06</td>\n",
       "      <td>Admin Officer</td>\n",
       "      <td>13th</td>\n",
       "      <td>2020-01-06</td>\n",
       "      <td>2021-04-06 00:00:00</td>\n",
       "      <td>Individual</td>\n",
       "      <td>107</td>\n",
       "      <td>NETS</td>\n",
       "      <td>1712</td>\n",
       "      <td>2.5</td>\n",
       "    </tr>\n",
       "    <tr>\n",
       "      <th>2</th>\n",
       "      <td>2020/1101-013/003</td>\n",
       "      <td>Ms</td>\n",
       "      <td>F</td>\n",
       "      <td>Singaporean</td>\n",
       "      <td>Y</td>\n",
       "      <td>NaN</td>\n",
       "      <td>04/12/1988</td>\n",
       "      <td>Certificate</td>\n",
       "      <td>Nitec in Service Skills (Office), ITE</td>\n",
       "      <td>2016-11-06</td>\n",
       "      <td>Admin Assistant</td>\n",
       "      <td>13th</td>\n",
       "      <td>2020-01-06</td>\n",
       "      <td>2021-04-06 00:00:00</td>\n",
       "      <td>Sponsored - no SDF</td>\n",
       "      <td>107</td>\n",
       "      <td>CC JPM</td>\n",
       "      <td>1712</td>\n",
       "      <td>2.0</td>\n",
       "    </tr>\n",
       "    <tr>\n",
       "      <th>3</th>\n",
       "      <td>2020/1101-014/004</td>\n",
       "      <td>Ms</td>\n",
       "      <td>F</td>\n",
       "      <td>Singaporean</td>\n",
       "      <td>Y</td>\n",
       "      <td>NaN</td>\n",
       "      <td>27/11/1991</td>\n",
       "      <td>Degree</td>\n",
       "      <td>Bachelor Science (Facilities &amp; Events Manageme...</td>\n",
       "      <td>2017-06-10</td>\n",
       "      <td>HR Administrator</td>\n",
       "      <td>14th</td>\n",
       "      <td>2020-03-10</td>\n",
       "      <td>2021-06-09 00:00:00</td>\n",
       "      <td>Individual - SFC</td>\n",
       "      <td>107</td>\n",
       "      <td>NETS</td>\n",
       "      <td>1212</td>\n",
       "      <td>2.5</td>\n",
       "    </tr>\n",
       "    <tr>\n",
       "      <th>4</th>\n",
       "      <td>2020/1101-014/005</td>\n",
       "      <td>Ms</td>\n",
       "      <td>F</td>\n",
       "      <td>Singaporean</td>\n",
       "      <td>Y</td>\n",
       "      <td></td>\n",
       "      <td>23/04/1985</td>\n",
       "      <td>Diploma</td>\n",
       "      <td>Diploma in Procurement and Supply Management, ...</td>\n",
       "      <td>2016-08-10</td>\n",
       "      <td>Purchasing Executive</td>\n",
       "      <td>14th</td>\n",
       "      <td>2020-03-10</td>\n",
       "      <td>2021-06-09 00:00:00</td>\n",
       "      <td>Individual - SFC</td>\n",
       "      <td>107</td>\n",
       "      <td>NETS</td>\n",
       "      <td>1712</td>\n",
       "      <td>2.4</td>\n",
       "    </tr>\n",
       "    <tr>\n",
       "      <th>...</th>\n",
       "      <td>...</td>\n",
       "      <td>...</td>\n",
       "      <td>...</td>\n",
       "      <td>...</td>\n",
       "      <td>...</td>\n",
       "      <td>...</td>\n",
       "      <td>...</td>\n",
       "      <td>...</td>\n",
       "      <td>...</td>\n",
       "      <td>...</td>\n",
       "      <td>...</td>\n",
       "      <td>...</td>\n",
       "      <td>...</td>\n",
       "      <td>...</td>\n",
       "      <td>...</td>\n",
       "      <td>...</td>\n",
       "      <td>...</td>\n",
       "      <td>...</td>\n",
       "      <td>...</td>\n",
       "    </tr>\n",
       "    <tr>\n",
       "      <th>239</th>\n",
       "      <td>2019/5113-007/005</td>\n",
       "      <td>Ms</td>\n",
       "      <td>F</td>\n",
       "      <td>Singaporean</td>\n",
       "      <td>Y</td>\n",
       "      <td>NaN</td>\n",
       "      <td>01/10/1973</td>\n",
       "      <td>Degree</td>\n",
       "      <td>Bachelor of Commerce (Accounting and Finance)/...</td>\n",
       "      <td>2017-11-05</td>\n",
       "      <td>Head, Registry &amp; Corp Admin</td>\n",
       "      <td>7th</td>\n",
       "      <td>2019-07-05</td>\n",
       "      <td>2020-01-04 00:00:00</td>\n",
       "      <td>Individual</td>\n",
       "      <td>107</td>\n",
       "      <td>Nets</td>\n",
       "      <td>5803</td>\n",
       "      <td>2.9</td>\n",
       "    </tr>\n",
       "    <tr>\n",
       "      <th>240</th>\n",
       "      <td>2019/5113-007/006</td>\n",
       "      <td>Ms</td>\n",
       "      <td>F</td>\n",
       "      <td>Indonesian (PR)</td>\n",
       "      <td>Y</td>\n",
       "      <td>NaN</td>\n",
       "      <td>30/09/1982</td>\n",
       "      <td>Degree</td>\n",
       "      <td>Bachelor of Economics (Accounting)/\\nUniversit...</td>\n",
       "      <td>2016-05-05</td>\n",
       "      <td>Finance Officer</td>\n",
       "      <td>7th</td>\n",
       "      <td>2019-07-05</td>\n",
       "      <td>2020-01-04 00:00:00</td>\n",
       "      <td>Individual</td>\n",
       "      <td>107</td>\n",
       "      <td>Nets</td>\n",
       "      <td>5803</td>\n",
       "      <td>2.0</td>\n",
       "    </tr>\n",
       "    <tr>\n",
       "      <th>241</th>\n",
       "      <td>2019/5113-006/003</td>\n",
       "      <td>Ms</td>\n",
       "      <td>F</td>\n",
       "      <td>Singaporean</td>\n",
       "      <td>Y</td>\n",
       "      <td>NaN</td>\n",
       "      <td>06/03/1990</td>\n",
       "      <td>Degree</td>\n",
       "      <td>Bachelor of Science in Hotel Administration (H...</td>\n",
       "      <td>2015-06-08</td>\n",
       "      <td>HR Assistant</td>\n",
       "      <td>6th</td>\n",
       "      <td>2019-03-08</td>\n",
       "      <td>2019-09-07 00:00:00</td>\n",
       "      <td>Individual</td>\n",
       "      <td>107</td>\n",
       "      <td>Nets</td>\n",
       "      <td>5803</td>\n",
       "      <td>2.8</td>\n",
       "    </tr>\n",
       "    <tr>\n",
       "      <th>242</th>\n",
       "      <td>2019/5113-005/001</td>\n",
       "      <td>Ms</td>\n",
       "      <td>F</td>\n",
       "      <td>Singaporean</td>\n",
       "      <td>Y</td>\n",
       "      <td>NaN</td>\n",
       "      <td>14/11/1981</td>\n",
       "      <td>Degree</td>\n",
       "      <td>Bachelor of Arts with Second Class Honours (Lo...</td>\n",
       "      <td>2014-08-04</td>\n",
       "      <td>Household Goods Coordinator</td>\n",
       "      <td>5th</td>\n",
       "      <td>2019-01-04</td>\n",
       "      <td>2019-07-03 00:00:00</td>\n",
       "      <td>Individual</td>\n",
       "      <td>107</td>\n",
       "      <td>Nets</td>\n",
       "      <td>5803</td>\n",
       "      <td>1.9</td>\n",
       "    </tr>\n",
       "    <tr>\n",
       "      <th>243</th>\n",
       "      <td>2019/5113-005/002</td>\n",
       "      <td>Ms</td>\n",
       "      <td>F</td>\n",
       "      <td>Singaporean</td>\n",
       "      <td>Y</td>\n",
       "      <td>NaN</td>\n",
       "      <td>28/01/1983</td>\n",
       "      <td>Degree</td>\n",
       "      <td>Bachelor of Business (Business Administration)...</td>\n",
       "      <td>2016-10-04</td>\n",
       "      <td>Assistant Director, Human Resources</td>\n",
       "      <td>5th</td>\n",
       "      <td>2019-01-04</td>\n",
       "      <td>2019-07-03 00:00:00</td>\n",
       "      <td>Individual</td>\n",
       "      <td>107</td>\n",
       "      <td>Nets</td>\n",
       "      <td>5803</td>\n",
       "      <td>2.9</td>\n",
       "    </tr>\n",
       "  </tbody>\n",
       "</table>\n",
       "<p>244 rows × 19 columns</p>\n",
       "</div>"
      ],
      "text/plain": [
       "            STUDENT ID SALUTATION GENDER      NATIONALITY LOCAL FOREIGN  \\\n",
       "0    2020/1101-013/001         Ms      F      Singaporean     Y           \n",
       "1    2020/1101-013/002         Ms      F      Singaporean     Y           \n",
       "2    2020/1101-013/003         Ms      F      Singaporean     Y     NaN   \n",
       "3    2020/1101-014/004         Ms      F      Singaporean     Y     NaN   \n",
       "4    2020/1101-014/005         Ms      F      Singaporean     Y           \n",
       "..                 ...        ...    ...              ...   ...     ...   \n",
       "239  2019/5113-007/005         Ms      F      Singaporean     Y     NaN   \n",
       "240  2019/5113-007/006         Ms      F  Indonesian (PR)     Y     NaN   \n",
       "241  2019/5113-006/003         Ms      F      Singaporean     Y     NaN   \n",
       "242  2019/5113-005/001         Ms      F      Singaporean     Y     NaN   \n",
       "243  2019/5113-005/002         Ms      F      Singaporean     Y     NaN   \n",
       "\n",
       "            DOB HIGHEST QUALIFICATION  \\\n",
       "0    04/03/1978           Certificate   \n",
       "1    23/03/1966           Certificate   \n",
       "2    04/12/1988           Certificate   \n",
       "3    27/11/1991                Degree   \n",
       "4    23/04/1985               Diploma   \n",
       "..          ...                   ...   \n",
       "239  01/10/1973                Degree   \n",
       "240  30/09/1982                Degree   \n",
       "241  06/03/1990                Degree   \n",
       "242  14/11/1981                Degree   \n",
       "243  28/01/1983                Degree   \n",
       "\n",
       "                 NAME OF QUALIFICATION AND INSTITUTION  \\\n",
       "0                    Certificate in Office Skills, ITE   \n",
       "1    WSQ Higher Certificate in Human Resources, WPL...   \n",
       "2                Nitec in Service Skills (Office), ITE   \n",
       "3    Bachelor Science (Facilities & Events Manageme...   \n",
       "4    Diploma in Procurement and Supply Management, ...   \n",
       "..                                                 ...   \n",
       "239  Bachelor of Commerce (Accounting and Finance)/...   \n",
       "240  Bachelor of Economics (Accounting)/\\nUniversit...   \n",
       "241  Bachelor of Science in Hotel Administration (H...   \n",
       "242  Bachelor of Arts with Second Class Honours (Lo...   \n",
       "243  Bachelor of Business (Business Administration)...   \n",
       "\n",
       "    DATE ATTAINED HIGHEST QUALIFICATION                          DESIGNATION  \\\n",
       "0                            2016-11-06       Snr Associate, Client Services   \n",
       "1                            2018-02-06                        Admin Officer   \n",
       "2                            2016-11-06                      Admin Assistant   \n",
       "3                            2017-06-10                     HR Administrator   \n",
       "4                            2016-08-10                 Purchasing Executive   \n",
       "..                                  ...                                  ...   \n",
       "239                          2017-11-05          Head, Registry & Corp Admin   \n",
       "240                          2016-05-05                      Finance Officer   \n",
       "241                          2015-06-08                         HR Assistant   \n",
       "242                          2014-08-04          Household Goods Coordinator   \n",
       "243                          2016-10-04  Assistant Director, Human Resources   \n",
       "\n",
       "    INTAKE NO COMMENCEMENT DATE      COMPLETION DATE      COURSE FUNDING  \\\n",
       "0        13th        2020-01-06  2021-04-06 00:00:00    Individual - SFC   \n",
       "1        13th        2020-01-06  2021-04-06 00:00:00          Individual   \n",
       "2        13th        2020-01-06  2021-04-06 00:00:00  Sponsored - no SDF   \n",
       "3        14th        2020-03-10  2021-06-09 00:00:00    Individual - SFC   \n",
       "4        14th        2020-03-10  2021-06-09 00:00:00    Individual - SFC   \n",
       "..        ...               ...                  ...                 ...   \n",
       "239       7th        2019-07-05  2020-01-04 00:00:00          Individual   \n",
       "240       7th        2019-07-05  2020-01-04 00:00:00          Individual   \n",
       "241       6th        2019-03-08  2019-09-07 00:00:00          Individual   \n",
       "242       5th        2019-01-04  2019-07-03 00:00:00          Individual   \n",
       "243       5th        2019-01-04  2019-07-03 00:00:00          Individual   \n",
       "\n",
       "    REGISTRATION FEE PAYMENT MODE  COURSE FEE  GPA  \n",
       "0                107         NETS        1712  3.0  \n",
       "1                107         NETS        1712  2.5  \n",
       "2                107       CC JPM        1712  2.0  \n",
       "3                107         NETS        1212  2.5  \n",
       "4                107         NETS        1712  2.4  \n",
       "..               ...          ...         ...  ...  \n",
       "239              107         Nets        5803  2.9  \n",
       "240              107         Nets        5803  2.0  \n",
       "241              107         Nets        5803  2.8  \n",
       "242              107         Nets        5803  1.9  \n",
       "243              107         Nets        5803  2.9  \n",
       "\n",
       "[244 rows x 19 columns]"
      ]
     },
     "execution_count": 144,
     "metadata": {},
     "output_type": "execute_result"
    }
   ],
   "source": [
    "Student.drop(columns=['FULL-TIME OR PART-TIME'])"
   ]
  },
  {
   "cell_type": "code",
   "execution_count": 145,
   "metadata": {},
   "outputs": [
    {
     "data": {
      "text/html": [
       "<div>\n",
       "<style scoped>\n",
       "    .dataframe tbody tr th:only-of-type {\n",
       "        vertical-align: middle;\n",
       "    }\n",
       "\n",
       "    .dataframe tbody tr th {\n",
       "        vertical-align: top;\n",
       "    }\n",
       "\n",
       "    .dataframe thead th {\n",
       "        text-align: right;\n",
       "    }\n",
       "</style>\n",
       "<table border=\"1\" class=\"dataframe\">\n",
       "  <thead>\n",
       "    <tr style=\"text-align: right;\">\n",
       "      <th></th>\n",
       "      <th>STUDENT ID</th>\n",
       "      <th>SALUTATION</th>\n",
       "      <th>GENDER</th>\n",
       "      <th>NATIONALITY</th>\n",
       "      <th>LOCAL</th>\n",
       "      <th>FOREIGN</th>\n",
       "      <th>DOB</th>\n",
       "      <th>HIGHEST QUALIFICATION</th>\n",
       "      <th>NAME OF QUALIFICATION AND INSTITUTION</th>\n",
       "      <th>DESIGNATION</th>\n",
       "      <th>INTAKE NO</th>\n",
       "      <th>COMPLETION DATE</th>\n",
       "      <th>FULL-TIME OR PART-TIME</th>\n",
       "      <th>COURSE FUNDING</th>\n",
       "      <th>REGISTRATION FEE</th>\n",
       "      <th>PAYMENT MODE</th>\n",
       "    </tr>\n",
       "  </thead>\n",
       "  <tbody>\n",
       "    <tr>\n",
       "      <th>count</th>\n",
       "      <td>244</td>\n",
       "      <td>244</td>\n",
       "      <td>244</td>\n",
       "      <td>244</td>\n",
       "      <td>229</td>\n",
       "      <td>120</td>\n",
       "      <td>244</td>\n",
       "      <td>244</td>\n",
       "      <td>244</td>\n",
       "      <td>244</td>\n",
       "      <td>244</td>\n",
       "      <td>244</td>\n",
       "      <td>244</td>\n",
       "      <td>244</td>\n",
       "      <td>244</td>\n",
       "      <td>244</td>\n",
       "    </tr>\n",
       "    <tr>\n",
       "      <th>unique</th>\n",
       "      <td>244</td>\n",
       "      <td>4</td>\n",
       "      <td>2</td>\n",
       "      <td>19</td>\n",
       "      <td>2</td>\n",
       "      <td>2</td>\n",
       "      <td>236</td>\n",
       "      <td>8</td>\n",
       "      <td>210</td>\n",
       "      <td>147</td>\n",
       "      <td>28</td>\n",
       "      <td>34</td>\n",
       "      <td>1</td>\n",
       "      <td>17</td>\n",
       "      <td>3</td>\n",
       "      <td>23</td>\n",
       "    </tr>\n",
       "    <tr>\n",
       "      <th>top</th>\n",
       "      <td>2020/1101-013/001</td>\n",
       "      <td>Ms</td>\n",
       "      <td>F</td>\n",
       "      <td>Singaporean</td>\n",
       "      <td>Y</td>\n",
       "      <td></td>\n",
       "      <td>30/11/1983</td>\n",
       "      <td>Degree</td>\n",
       "      <td>O' level</td>\n",
       "      <td>-</td>\n",
       "      <td>70th</td>\n",
       "      <td>20/09/2019</td>\n",
       "      <td>Part-Time</td>\n",
       "      <td>Individual</td>\n",
       "      <td>107</td>\n",
       "      <td>Nets</td>\n",
       "    </tr>\n",
       "    <tr>\n",
       "      <th>freq</th>\n",
       "      <td>1</td>\n",
       "      <td>214</td>\n",
       "      <td>215</td>\n",
       "      <td>189</td>\n",
       "      <td>205</td>\n",
       "      <td>81</td>\n",
       "      <td>2</td>\n",
       "      <td>104</td>\n",
       "      <td>10</td>\n",
       "      <td>36</td>\n",
       "      <td>21</td>\n",
       "      <td>21</td>\n",
       "      <td>244</td>\n",
       "      <td>112</td>\n",
       "      <td>239</td>\n",
       "      <td>169</td>\n",
       "    </tr>\n",
       "  </tbody>\n",
       "</table>\n",
       "</div>"
      ],
      "text/plain": [
       "               STUDENT ID SALUTATION GENDER  NATIONALITY LOCAL FOREIGN  \\\n",
       "count                 244        244    244          244   229     120   \n",
       "unique                244          4      2           19     2       2   \n",
       "top     2020/1101-013/001         Ms      F  Singaporean     Y           \n",
       "freq                    1        214    215          189   205      81   \n",
       "\n",
       "               DOB HIGHEST QUALIFICATION  \\\n",
       "count          244                   244   \n",
       "unique         236                     8   \n",
       "top     30/11/1983                Degree   \n",
       "freq             2                   104   \n",
       "\n",
       "       NAME OF QUALIFICATION AND INSTITUTION DESIGNATION INTAKE NO  \\\n",
       "count                                    244         244       244   \n",
       "unique                                   210         147        28   \n",
       "top                                 O' level           -      70th   \n",
       "freq                                      10          36        21   \n",
       "\n",
       "       COMPLETION DATE FULL-TIME OR PART-TIME COURSE FUNDING  \\\n",
       "count              244                    244            244   \n",
       "unique              34                      1             17   \n",
       "top         20/09/2019              Part-Time     Individual   \n",
       "freq                21                    244            112   \n",
       "\n",
       "        REGISTRATION FEE PAYMENT MODE  \n",
       "count                244          244  \n",
       "unique                 3           23  \n",
       "top                  107         Nets  \n",
       "freq                 239          169  "
      ]
     },
     "execution_count": 145,
     "metadata": {},
     "output_type": "execute_result"
    }
   ],
   "source": [
    "Student.describe(include='object')"
   ]
  },
  {
   "cell_type": "code",
   "execution_count": 146,
   "metadata": {},
   "outputs": [
    {
     "data": {
      "text/html": [
       "<div>\n",
       "<style scoped>\n",
       "    .dataframe tbody tr th:only-of-type {\n",
       "        vertical-align: middle;\n",
       "    }\n",
       "\n",
       "    .dataframe tbody tr th {\n",
       "        vertical-align: top;\n",
       "    }\n",
       "\n",
       "    .dataframe thead th {\n",
       "        text-align: right;\n",
       "    }\n",
       "</style>\n",
       "<table border=\"1\" class=\"dataframe\">\n",
       "  <thead>\n",
       "    <tr style=\"text-align: right;\">\n",
       "      <th></th>\n",
       "      <th>COURSE FEE</th>\n",
       "      <th>GPA</th>\n",
       "    </tr>\n",
       "  </thead>\n",
       "  <tbody>\n",
       "    <tr>\n",
       "      <th>count</th>\n",
       "      <td>244.000000</td>\n",
       "      <td>244.000000</td>\n",
       "    </tr>\n",
       "    <tr>\n",
       "      <th>mean</th>\n",
       "      <td>2687.856557</td>\n",
       "      <td>2.758197</td>\n",
       "    </tr>\n",
       "    <tr>\n",
       "      <th>std</th>\n",
       "      <td>1825.495950</td>\n",
       "      <td>0.595987</td>\n",
       "    </tr>\n",
       "    <tr>\n",
       "      <th>min</th>\n",
       "      <td>888.000000</td>\n",
       "      <td>1.500000</td>\n",
       "    </tr>\n",
       "    <tr>\n",
       "      <th>25%</th>\n",
       "      <td>1388.000000</td>\n",
       "      <td>2.300000</td>\n",
       "    </tr>\n",
       "    <tr>\n",
       "      <th>50%</th>\n",
       "      <td>1712.000000</td>\n",
       "      <td>2.800000</td>\n",
       "    </tr>\n",
       "    <tr>\n",
       "      <th>75%</th>\n",
       "      <td>2996.000000</td>\n",
       "      <td>3.100000</td>\n",
       "    </tr>\n",
       "    <tr>\n",
       "      <th>max</th>\n",
       "      <td>5803.000000</td>\n",
       "      <td>4.000000</td>\n",
       "    </tr>\n",
       "  </tbody>\n",
       "</table>\n",
       "</div>"
      ],
      "text/plain": [
       "        COURSE FEE         GPA\n",
       "count   244.000000  244.000000\n",
       "mean   2687.856557    2.758197\n",
       "std    1825.495950    0.595987\n",
       "min     888.000000    1.500000\n",
       "25%    1388.000000    2.300000\n",
       "50%    1712.000000    2.800000\n",
       "75%    2996.000000    3.100000\n",
       "max    5803.000000    4.000000"
      ]
     },
     "execution_count": 146,
     "metadata": {},
     "output_type": "execute_result"
    }
   ],
   "source": [
    "Student.describe()"
   ]
  },
  {
   "cell_type": "code",
   "execution_count": 147,
   "metadata": {},
   "outputs": [
    {
     "name": "stdout",
     "output_type": "stream",
     "text": [
      "Looking for Missing Values:\n",
      "STUDENT ID                                 0\n",
      "SALUTATION                                 0\n",
      "GENDER                                     0\n",
      "NATIONALITY                                0\n",
      "LOCAL                                     15\n",
      "FOREIGN                                  124\n",
      "DOB                                        0\n",
      "HIGHEST QUALIFICATION                      0\n",
      "NAME OF QUALIFICATION AND INSTITUTION      0\n",
      "DATE ATTAINED HIGHEST QUALIFICATION        0\n",
      "DESIGNATION                                0\n",
      "INTAKE NO                                  0\n",
      "COMMENCEMENT DATE                          0\n",
      "COMPLETION DATE                            0\n",
      "FULL-TIME OR PART-TIME                     0\n",
      "COURSE FUNDING                             0\n",
      "REGISTRATION FEE                           0\n",
      "PAYMENT MODE                               0\n",
      "COURSE FEE                                 0\n",
      "GPA                                        0\n",
      "dtype: int64\n"
     ]
    }
   ],
   "source": [
    "missing_values = Student.isnull().sum()\n",
    "print('Looking for Missing Values:')\n",
    "print(missing_values)"
   ]
  },
  {
   "cell_type": "code",
   "execution_count": 148,
   "metadata": {},
   "outputs": [
    {
     "data": {
      "text/plain": [
       "Index(['STUDENT ID', 'SALUTATION', 'GENDER', 'NATIONALITY', 'LOCAL', 'FOREIGN',\n",
       "       'DOB', 'HIGHEST QUALIFICATION', 'NAME OF QUALIFICATION AND INSTITUTION',\n",
       "       'DATE ATTAINED HIGHEST QUALIFICATION', 'DESIGNATION', 'INTAKE NO',\n",
       "       'COMMENCEMENT DATE', 'COMPLETION DATE', 'FULL-TIME OR PART-TIME',\n",
       "       'COURSE FUNDING', 'REGISTRATION FEE', 'PAYMENT MODE', 'COURSE FEE',\n",
       "       'GPA'],\n",
       "      dtype='object')"
      ]
     },
     "execution_count": 148,
     "metadata": {},
     "output_type": "execute_result"
    }
   ],
   "source": [
    "Student.columns"
   ]
  },
  {
   "cell_type": "code",
   "execution_count": 149,
   "metadata": {},
   "outputs": [
    {
     "name": "stdout",
     "output_type": "stream",
     "text": [
      "<class 'pandas.core.frame.DataFrame'>\n",
      "RangeIndex: 244 entries, 0 to 243\n",
      "Data columns (total 20 columns):\n",
      " #   Column                                 Non-Null Count  Dtype         \n",
      "---  ------                                 --------------  -----         \n",
      " 0   STUDENT ID                             244 non-null    object        \n",
      " 1   SALUTATION                             244 non-null    object        \n",
      " 2   GENDER                                 244 non-null    object        \n",
      " 3   NATIONALITY                            244 non-null    object        \n",
      " 4   LOCAL                                  229 non-null    object        \n",
      " 5   FOREIGN                                120 non-null    object        \n",
      " 6   DOB                                    244 non-null    object        \n",
      " 7   HIGHEST QUALIFICATION                  244 non-null    object        \n",
      " 8   NAME OF QUALIFICATION AND INSTITUTION  244 non-null    object        \n",
      " 9   DATE ATTAINED HIGHEST QUALIFICATION    244 non-null    datetime64[ns]\n",
      " 10  DESIGNATION                            244 non-null    object        \n",
      " 11  INTAKE NO                              244 non-null    object        \n",
      " 12  COMMENCEMENT DATE                      244 non-null    datetime64[ns]\n",
      " 13  COMPLETION DATE                        244 non-null    object        \n",
      " 14  FULL-TIME OR PART-TIME                 244 non-null    object        \n",
      " 15  COURSE FUNDING                         244 non-null    object        \n",
      " 16  REGISTRATION FEE                       244 non-null    object        \n",
      " 17  PAYMENT MODE                           244 non-null    object        \n",
      " 18  COURSE FEE                             244 non-null    int64         \n",
      " 19  GPA                                    244 non-null    float64       \n",
      "dtypes: datetime64[ns](2), float64(1), int64(1), object(16)\n",
      "memory usage: 38.2+ KB\n"
     ]
    }
   ],
   "source": [
    "Student.info()"
   ]
  },
  {
   "cell_type": "code",
   "execution_count": null,
   "metadata": {},
   "outputs": [],
   "source": []
  },
  {
   "cell_type": "code",
   "execution_count": 150,
   "metadata": {},
   "outputs": [],
   "source": [
    "Student['CITIZENSHIP_STATUS'] = ''\n",
    "Student.loc[Student['LOCAL'] == 'Y', 'CITIZENSHIP_STATUS'] = 'L'\n",
    "Student.loc[Student['FOREIGN'] == 'Y', 'CITIZENSHIP_STATUS'] = 'F'\n",
    "Student.drop(['FOREIGN', 'LOCAL'], axis=1, inplace=True)"
   ]
  },
  {
   "cell_type": "code",
   "execution_count": 151,
   "metadata": {},
   "outputs": [],
   "source": [
    "Student.loc[Student['HIGHEST QUALIFICATION'].isin(['Postgraduate Diploma','Postgraduate Diploma/\\nDegree']), 'HIGHEST QUALIFICATION'] = 'Master'\n",
    "Student.loc[Student['HIGHEST QUALIFICATION'] == ' ', 'HIGHEST QUALIFICATION'] = 'No Qualifications'"
   ]
  },
  {
   "cell_type": "code",
   "execution_count": 152,
   "metadata": {},
   "outputs": [
    {
     "data": {
      "text/plain": [
       "array(['Certificate', 'Degree', 'Diploma', 'Master', 'Graduate Diploma',\n",
       "       'No Qualifications'], dtype=object)"
      ]
     },
     "execution_count": 152,
     "metadata": {},
     "output_type": "execute_result"
    }
   ],
   "source": [
    "Student['HIGHEST QUALIFICATION'].unique()"
   ]
  },
  {
   "cell_type": "code",
   "execution_count": 153,
   "metadata": {},
   "outputs": [
    {
     "data": {
      "text/plain": [
       "array(['NETS', 'CC JPM', 'GIRO', 'Cr Card', 'Giro', 'SMBC 278451',\n",
       "       'CITI 067168', 'MBB 000023', 'SCB 726231', 'OCBC 006258',\n",
       "       'Nets\\nNets*', 'Nets', 'OCBC 000385', 'POSB 743523', 'OCBC 484773',\n",
       "       'UOB 042724', 'DBS 346889', 'UOB 480958', 'UOB 000073',\n",
       "       'UOB Cr Card - 12 months', 'Waived', 'OCBC 923215', 'DBS 002211'],\n",
       "      dtype=object)"
      ]
     },
     "execution_count": 153,
     "metadata": {},
     "output_type": "execute_result"
    }
   ],
   "source": [
    "Student['PAYMENT MODE'].unique()"
   ]
  },
  {
   "cell_type": "code",
   "execution_count": 154,
   "metadata": {},
   "outputs": [],
   "source": [
    "Student.loc[~Student['PAYMENT MODE'].isin(['NETS', 'GIRO', 'Giro', 'Cr Card']), 'PAYMENT MODE'] = 'Bank Transfer'\n",
    "Student['PAYMENT MODE'] = Student['PAYMENT MODE'].str.replace('Giro', 'GIRO')"
   ]
  },
  {
   "cell_type": "code",
   "execution_count": 155,
   "metadata": {},
   "outputs": [
    {
     "data": {
      "text/plain": [
       "array(['NETS', 'Bank Transfer', 'GIRO', 'Cr Card'], dtype=object)"
      ]
     },
     "execution_count": 155,
     "metadata": {},
     "output_type": "execute_result"
    }
   ],
   "source": [
    "Student['PAYMENT MODE'].unique()"
   ]
  },
  {
   "cell_type": "code",
   "execution_count": 156,
   "metadata": {},
   "outputs": [],
   "source": [
    "Student['SALUTATION'] = Student['SALUTATION'].str.replace('Mr ', 'Mr')"
   ]
  },
  {
   "cell_type": "code",
   "execution_count": 157,
   "metadata": {},
   "outputs": [
    {
     "name": "stderr",
     "output_type": "stream",
     "text": [
      "f:\\anaconda\\lib\\site-packages\\pandas\\core\\tools\\datetimes.py:1063: UserWarning: Parsing '21/09/2020' in DD/MM/YYYY format. Provide format or specify infer_datetime_format=True for consistent parsing.\n",
      "  cache_array = _maybe_cache(arg, format, cache, convert_listlike)\n",
      "f:\\anaconda\\lib\\site-packages\\pandas\\core\\tools\\datetimes.py:1063: UserWarning: Parsing '20/11/2020' in DD/MM/YYYY format. Provide format or specify infer_datetime_format=True for consistent parsing.\n",
      "  cache_array = _maybe_cache(arg, format, cache, convert_listlike)\n",
      "f:\\anaconda\\lib\\site-packages\\pandas\\core\\tools\\datetimes.py:1063: UserWarning: Parsing '22/01/2020' in DD/MM/YYYY format. Provide format or specify infer_datetime_format=True for consistent parsing.\n",
      "  cache_array = _maybe_cache(arg, format, cache, convert_listlike)\n",
      "f:\\anaconda\\lib\\site-packages\\pandas\\core\\tools\\datetimes.py:1063: UserWarning: Parsing '15/04/2019' in DD/MM/YYYY format. Provide format or specify infer_datetime_format=True for consistent parsing.\n",
      "  cache_array = _maybe_cache(arg, format, cache, convert_listlike)\n",
      "f:\\anaconda\\lib\\site-packages\\pandas\\core\\tools\\datetimes.py:1063: UserWarning: Parsing '20/09/2019' in DD/MM/YYYY format. Provide format or specify infer_datetime_format=True for consistent parsing.\n",
      "  cache_array = _maybe_cache(arg, format, cache, convert_listlike)\n",
      "f:\\anaconda\\lib\\site-packages\\pandas\\core\\tools\\datetimes.py:1063: UserWarning: Parsing '22/11/2019' in DD/MM/YYYY format. Provide format or specify infer_datetime_format=True for consistent parsing.\n",
      "  cache_array = _maybe_cache(arg, format, cache, convert_listlike)\n",
      "f:\\anaconda\\lib\\site-packages\\pandas\\core\\tools\\datetimes.py:1063: UserWarning: Parsing '17/01/2020' in DD/MM/YYYY format. Provide format or specify infer_datetime_format=True for consistent parsing.\n",
      "  cache_array = _maybe_cache(arg, format, cache, convert_listlike)\n"
     ]
    }
   ],
   "source": [
    "Student['COMPLETION DATE'] = Student['COMPLETION DATE'].astype('datetime64[ns]')"
   ]
  },
  {
   "cell_type": "markdown",
   "metadata": {},
   "source": []
  },
  {
   "cell_type": "code",
   "execution_count": 158,
   "metadata": {},
   "outputs": [
    {
     "name": "stderr",
     "output_type": "stream",
     "text": [
      "C:\\Users\\Rejey Ezekiel\\AppData\\Local\\Temp\\ipykernel_17092\\4085476512.py:1: UserWarning: Parsing '23/03/1966' in DD/MM/YYYY format. Provide format or specify infer_datetime_format=True for consistent parsing.\n",
      "  Student['DOB'] = pd.to_datetime(Student['DOB'], infer_datetime_format=True)\n",
      "C:\\Users\\Rejey Ezekiel\\AppData\\Local\\Temp\\ipykernel_17092\\4085476512.py:1: UserWarning: Parsing '27/11/1991' in DD/MM/YYYY format. Provide format or specify infer_datetime_format=True for consistent parsing.\n",
      "  Student['DOB'] = pd.to_datetime(Student['DOB'], infer_datetime_format=True)\n",
      "C:\\Users\\Rejey Ezekiel\\AppData\\Local\\Temp\\ipykernel_17092\\4085476512.py:1: UserWarning: Parsing '23/04/1985' in DD/MM/YYYY format. Provide format or specify infer_datetime_format=True for consistent parsing.\n",
      "  Student['DOB'] = pd.to_datetime(Student['DOB'], infer_datetime_format=True)\n",
      "C:\\Users\\Rejey Ezekiel\\AppData\\Local\\Temp\\ipykernel_17092\\4085476512.py:1: UserWarning: Parsing '15/03/1981' in DD/MM/YYYY format. Provide format or specify infer_datetime_format=True for consistent parsing.\n",
      "  Student['DOB'] = pd.to_datetime(Student['DOB'], infer_datetime_format=True)\n",
      "C:\\Users\\Rejey Ezekiel\\AppData\\Local\\Temp\\ipykernel_17092\\4085476512.py:1: UserWarning: Parsing '21/01/1994' in DD/MM/YYYY format. Provide format or specify infer_datetime_format=True for consistent parsing.\n",
      "  Student['DOB'] = pd.to_datetime(Student['DOB'], infer_datetime_format=True)\n",
      "C:\\Users\\Rejey Ezekiel\\AppData\\Local\\Temp\\ipykernel_17092\\4085476512.py:1: UserWarning: Parsing '19/07/1983' in DD/MM/YYYY format. Provide format or specify infer_datetime_format=True for consistent parsing.\n",
      "  Student['DOB'] = pd.to_datetime(Student['DOB'], infer_datetime_format=True)\n",
      "C:\\Users\\Rejey Ezekiel\\AppData\\Local\\Temp\\ipykernel_17092\\4085476512.py:1: UserWarning: Parsing '27/08/1994' in DD/MM/YYYY format. Provide format or specify infer_datetime_format=True for consistent parsing.\n",
      "  Student['DOB'] = pd.to_datetime(Student['DOB'], infer_datetime_format=True)\n",
      "C:\\Users\\Rejey Ezekiel\\AppData\\Local\\Temp\\ipykernel_17092\\4085476512.py:1: UserWarning: Parsing '27/01/1980' in DD/MM/YYYY format. Provide format or specify infer_datetime_format=True for consistent parsing.\n",
      "  Student['DOB'] = pd.to_datetime(Student['DOB'], infer_datetime_format=True)\n",
      "C:\\Users\\Rejey Ezekiel\\AppData\\Local\\Temp\\ipykernel_17092\\4085476512.py:1: UserWarning: Parsing '16/04/1995' in DD/MM/YYYY format. Provide format or specify infer_datetime_format=True for consistent parsing.\n",
      "  Student['DOB'] = pd.to_datetime(Student['DOB'], infer_datetime_format=True)\n",
      "C:\\Users\\Rejey Ezekiel\\AppData\\Local\\Temp\\ipykernel_17092\\4085476512.py:1: UserWarning: Parsing '18/06/1983' in DD/MM/YYYY format. Provide format or specify infer_datetime_format=True for consistent parsing.\n",
      "  Student['DOB'] = pd.to_datetime(Student['DOB'], infer_datetime_format=True)\n",
      "C:\\Users\\Rejey Ezekiel\\AppData\\Local\\Temp\\ipykernel_17092\\4085476512.py:1: UserWarning: Parsing '13/09/1981' in DD/MM/YYYY format. Provide format or specify infer_datetime_format=True for consistent parsing.\n",
      "  Student['DOB'] = pd.to_datetime(Student['DOB'], infer_datetime_format=True)\n",
      "C:\\Users\\Rejey Ezekiel\\AppData\\Local\\Temp\\ipykernel_17092\\4085476512.py:1: UserWarning: Parsing '26/07/1979' in DD/MM/YYYY format. Provide format or specify infer_datetime_format=True for consistent parsing.\n",
      "  Student['DOB'] = pd.to_datetime(Student['DOB'], infer_datetime_format=True)\n",
      "C:\\Users\\Rejey Ezekiel\\AppData\\Local\\Temp\\ipykernel_17092\\4085476512.py:1: UserWarning: Parsing '20/04/1976' in DD/MM/YYYY format. Provide format or specify infer_datetime_format=True for consistent parsing.\n",
      "  Student['DOB'] = pd.to_datetime(Student['DOB'], infer_datetime_format=True)\n",
      "C:\\Users\\Rejey Ezekiel\\AppData\\Local\\Temp\\ipykernel_17092\\4085476512.py:1: UserWarning: Parsing '25/11/1983' in DD/MM/YYYY format. Provide format or specify infer_datetime_format=True for consistent parsing.\n",
      "  Student['DOB'] = pd.to_datetime(Student['DOB'], infer_datetime_format=True)\n",
      "C:\\Users\\Rejey Ezekiel\\AppData\\Local\\Temp\\ipykernel_17092\\4085476512.py:1: UserWarning: Parsing '17/10/1968' in DD/MM/YYYY format. Provide format or specify infer_datetime_format=True for consistent parsing.\n",
      "  Student['DOB'] = pd.to_datetime(Student['DOB'], infer_datetime_format=True)\n",
      "C:\\Users\\Rejey Ezekiel\\AppData\\Local\\Temp\\ipykernel_17092\\4085476512.py:1: UserWarning: Parsing '22/10/1979' in DD/MM/YYYY format. Provide format or specify infer_datetime_format=True for consistent parsing.\n",
      "  Student['DOB'] = pd.to_datetime(Student['DOB'], infer_datetime_format=True)\n",
      "C:\\Users\\Rejey Ezekiel\\AppData\\Local\\Temp\\ipykernel_17092\\4085476512.py:1: UserWarning: Parsing '29/06/1980' in DD/MM/YYYY format. Provide format or specify infer_datetime_format=True for consistent parsing.\n",
      "  Student['DOB'] = pd.to_datetime(Student['DOB'], infer_datetime_format=True)\n",
      "C:\\Users\\Rejey Ezekiel\\AppData\\Local\\Temp\\ipykernel_17092\\4085476512.py:1: UserWarning: Parsing '25/05/1976' in DD/MM/YYYY format. Provide format or specify infer_datetime_format=True for consistent parsing.\n",
      "  Student['DOB'] = pd.to_datetime(Student['DOB'], infer_datetime_format=True)\n",
      "C:\\Users\\Rejey Ezekiel\\AppData\\Local\\Temp\\ipykernel_17092\\4085476512.py:1: UserWarning: Parsing '30/11/1983' in DD/MM/YYYY format. Provide format or specify infer_datetime_format=True for consistent parsing.\n",
      "  Student['DOB'] = pd.to_datetime(Student['DOB'], infer_datetime_format=True)\n",
      "C:\\Users\\Rejey Ezekiel\\AppData\\Local\\Temp\\ipykernel_17092\\4085476512.py:1: UserWarning: Parsing '31/01/1990' in DD/MM/YYYY format. Provide format or specify infer_datetime_format=True for consistent parsing.\n",
      "  Student['DOB'] = pd.to_datetime(Student['DOB'], infer_datetime_format=True)\n",
      "C:\\Users\\Rejey Ezekiel\\AppData\\Local\\Temp\\ipykernel_17092\\4085476512.py:1: UserWarning: Parsing '20/04/1973' in DD/MM/YYYY format. Provide format or specify infer_datetime_format=True for consistent parsing.\n",
      "  Student['DOB'] = pd.to_datetime(Student['DOB'], infer_datetime_format=True)\n",
      "C:\\Users\\Rejey Ezekiel\\AppData\\Local\\Temp\\ipykernel_17092\\4085476512.py:1: UserWarning: Parsing '17/06/1990' in DD/MM/YYYY format. Provide format or specify infer_datetime_format=True for consistent parsing.\n",
      "  Student['DOB'] = pd.to_datetime(Student['DOB'], infer_datetime_format=True)\n",
      "C:\\Users\\Rejey Ezekiel\\AppData\\Local\\Temp\\ipykernel_17092\\4085476512.py:1: UserWarning: Parsing '13/11/1994' in DD/MM/YYYY format. Provide format or specify infer_datetime_format=True for consistent parsing.\n",
      "  Student['DOB'] = pd.to_datetime(Student['DOB'], infer_datetime_format=True)\n",
      "C:\\Users\\Rejey Ezekiel\\AppData\\Local\\Temp\\ipykernel_17092\\4085476512.py:1: UserWarning: Parsing '16/02/1969' in DD/MM/YYYY format. Provide format or specify infer_datetime_format=True for consistent parsing.\n",
      "  Student['DOB'] = pd.to_datetime(Student['DOB'], infer_datetime_format=True)\n",
      "C:\\Users\\Rejey Ezekiel\\AppData\\Local\\Temp\\ipykernel_17092\\4085476512.py:1: UserWarning: Parsing '18/04/1992' in DD/MM/YYYY format. Provide format or specify infer_datetime_format=True for consistent parsing.\n",
      "  Student['DOB'] = pd.to_datetime(Student['DOB'], infer_datetime_format=True)\n",
      "C:\\Users\\Rejey Ezekiel\\AppData\\Local\\Temp\\ipykernel_17092\\4085476512.py:1: UserWarning: Parsing '16/06/1978' in DD/MM/YYYY format. Provide format or specify infer_datetime_format=True for consistent parsing.\n",
      "  Student['DOB'] = pd.to_datetime(Student['DOB'], infer_datetime_format=True)\n",
      "C:\\Users\\Rejey Ezekiel\\AppData\\Local\\Temp\\ipykernel_17092\\4085476512.py:1: UserWarning: Parsing '19/10/1987' in DD/MM/YYYY format. Provide format or specify infer_datetime_format=True for consistent parsing.\n",
      "  Student['DOB'] = pd.to_datetime(Student['DOB'], infer_datetime_format=True)\n",
      "C:\\Users\\Rejey Ezekiel\\AppData\\Local\\Temp\\ipykernel_17092\\4085476512.py:1: UserWarning: Parsing '30/04/1973' in DD/MM/YYYY format. Provide format or specify infer_datetime_format=True for consistent parsing.\n",
      "  Student['DOB'] = pd.to_datetime(Student['DOB'], infer_datetime_format=True)\n",
      "C:\\Users\\Rejey Ezekiel\\AppData\\Local\\Temp\\ipykernel_17092\\4085476512.py:1: UserWarning: Parsing '27/04/1976' in DD/MM/YYYY format. Provide format or specify infer_datetime_format=True for consistent parsing.\n",
      "  Student['DOB'] = pd.to_datetime(Student['DOB'], infer_datetime_format=True)\n",
      "C:\\Users\\Rejey Ezekiel\\AppData\\Local\\Temp\\ipykernel_17092\\4085476512.py:1: UserWarning: Parsing '27/05/1989' in DD/MM/YYYY format. Provide format or specify infer_datetime_format=True for consistent parsing.\n",
      "  Student['DOB'] = pd.to_datetime(Student['DOB'], infer_datetime_format=True)\n",
      "C:\\Users\\Rejey Ezekiel\\AppData\\Local\\Temp\\ipykernel_17092\\4085476512.py:1: UserWarning: Parsing '22/09/1992' in DD/MM/YYYY format. Provide format or specify infer_datetime_format=True for consistent parsing.\n",
      "  Student['DOB'] = pd.to_datetime(Student['DOB'], infer_datetime_format=True)\n",
      "C:\\Users\\Rejey Ezekiel\\AppData\\Local\\Temp\\ipykernel_17092\\4085476512.py:1: UserWarning: Parsing '18/10/1988' in DD/MM/YYYY format. Provide format or specify infer_datetime_format=True for consistent parsing.\n",
      "  Student['DOB'] = pd.to_datetime(Student['DOB'], infer_datetime_format=True)\n",
      "C:\\Users\\Rejey Ezekiel\\AppData\\Local\\Temp\\ipykernel_17092\\4085476512.py:1: UserWarning: Parsing '18/12/1969' in DD/MM/YYYY format. Provide format or specify infer_datetime_format=True for consistent parsing.\n",
      "  Student['DOB'] = pd.to_datetime(Student['DOB'], infer_datetime_format=True)\n",
      "C:\\Users\\Rejey Ezekiel\\AppData\\Local\\Temp\\ipykernel_17092\\4085476512.py:1: UserWarning: Parsing '19/06/1981' in DD/MM/YYYY format. Provide format or specify infer_datetime_format=True for consistent parsing.\n",
      "  Student['DOB'] = pd.to_datetime(Student['DOB'], infer_datetime_format=True)\n",
      "C:\\Users\\Rejey Ezekiel\\AppData\\Local\\Temp\\ipykernel_17092\\4085476512.py:1: UserWarning: Parsing '28/09/1999' in DD/MM/YYYY format. Provide format or specify infer_datetime_format=True for consistent parsing.\n",
      "  Student['DOB'] = pd.to_datetime(Student['DOB'], infer_datetime_format=True)\n",
      "C:\\Users\\Rejey Ezekiel\\AppData\\Local\\Temp\\ipykernel_17092\\4085476512.py:1: UserWarning: Parsing '19/10/1967' in DD/MM/YYYY format. Provide format or specify infer_datetime_format=True for consistent parsing.\n",
      "  Student['DOB'] = pd.to_datetime(Student['DOB'], infer_datetime_format=True)\n",
      "C:\\Users\\Rejey Ezekiel\\AppData\\Local\\Temp\\ipykernel_17092\\4085476512.py:1: UserWarning: Parsing '24/05/1999' in DD/MM/YYYY format. Provide format or specify infer_datetime_format=True for consistent parsing.\n",
      "  Student['DOB'] = pd.to_datetime(Student['DOB'], infer_datetime_format=True)\n",
      "C:\\Users\\Rejey Ezekiel\\AppData\\Local\\Temp\\ipykernel_17092\\4085476512.py:1: UserWarning: Parsing '21/10/1987' in DD/MM/YYYY format. Provide format or specify infer_datetime_format=True for consistent parsing.\n",
      "  Student['DOB'] = pd.to_datetime(Student['DOB'], infer_datetime_format=True)\n",
      "C:\\Users\\Rejey Ezekiel\\AppData\\Local\\Temp\\ipykernel_17092\\4085476512.py:1: UserWarning: Parsing '18/02/1986' in DD/MM/YYYY format. Provide format or specify infer_datetime_format=True for consistent parsing.\n",
      "  Student['DOB'] = pd.to_datetime(Student['DOB'], infer_datetime_format=True)\n",
      "C:\\Users\\Rejey Ezekiel\\AppData\\Local\\Temp\\ipykernel_17092\\4085476512.py:1: UserWarning: Parsing '24/12/1994' in DD/MM/YYYY format. Provide format or specify infer_datetime_format=True for consistent parsing.\n",
      "  Student['DOB'] = pd.to_datetime(Student['DOB'], infer_datetime_format=True)\n",
      "C:\\Users\\Rejey Ezekiel\\AppData\\Local\\Temp\\ipykernel_17092\\4085476512.py:1: UserWarning: Parsing '23/04/1998' in DD/MM/YYYY format. Provide format or specify infer_datetime_format=True for consistent parsing.\n",
      "  Student['DOB'] = pd.to_datetime(Student['DOB'], infer_datetime_format=True)\n",
      "C:\\Users\\Rejey Ezekiel\\AppData\\Local\\Temp\\ipykernel_17092\\4085476512.py:1: UserWarning: Parsing '23/12/1986' in DD/MM/YYYY format. Provide format or specify infer_datetime_format=True for consistent parsing.\n",
      "  Student['DOB'] = pd.to_datetime(Student['DOB'], infer_datetime_format=True)\n",
      "C:\\Users\\Rejey Ezekiel\\AppData\\Local\\Temp\\ipykernel_17092\\4085476512.py:1: UserWarning: Parsing '14/07/1987' in DD/MM/YYYY format. Provide format or specify infer_datetime_format=True for consistent parsing.\n",
      "  Student['DOB'] = pd.to_datetime(Student['DOB'], infer_datetime_format=True)\n",
      "C:\\Users\\Rejey Ezekiel\\AppData\\Local\\Temp\\ipykernel_17092\\4085476512.py:1: UserWarning: Parsing '30/11/1978' in DD/MM/YYYY format. Provide format or specify infer_datetime_format=True for consistent parsing.\n",
      "  Student['DOB'] = pd.to_datetime(Student['DOB'], infer_datetime_format=True)\n",
      "C:\\Users\\Rejey Ezekiel\\AppData\\Local\\Temp\\ipykernel_17092\\4085476512.py:1: UserWarning: Parsing '20/01/1993' in DD/MM/YYYY format. Provide format or specify infer_datetime_format=True for consistent parsing.\n",
      "  Student['DOB'] = pd.to_datetime(Student['DOB'], infer_datetime_format=True)\n",
      "C:\\Users\\Rejey Ezekiel\\AppData\\Local\\Temp\\ipykernel_17092\\4085476512.py:1: UserWarning: Parsing '27/12/1988' in DD/MM/YYYY format. Provide format or specify infer_datetime_format=True for consistent parsing.\n",
      "  Student['DOB'] = pd.to_datetime(Student['DOB'], infer_datetime_format=True)\n",
      "C:\\Users\\Rejey Ezekiel\\AppData\\Local\\Temp\\ipykernel_17092\\4085476512.py:1: UserWarning: Parsing '26/08/1989' in DD/MM/YYYY format. Provide format or specify infer_datetime_format=True for consistent parsing.\n",
      "  Student['DOB'] = pd.to_datetime(Student['DOB'], infer_datetime_format=True)\n",
      "C:\\Users\\Rejey Ezekiel\\AppData\\Local\\Temp\\ipykernel_17092\\4085476512.py:1: UserWarning: Parsing '17/12/1980' in DD/MM/YYYY format. Provide format or specify infer_datetime_format=True for consistent parsing.\n",
      "  Student['DOB'] = pd.to_datetime(Student['DOB'], infer_datetime_format=True)\n",
      "C:\\Users\\Rejey Ezekiel\\AppData\\Local\\Temp\\ipykernel_17092\\4085476512.py:1: UserWarning: Parsing '24/11/1992' in DD/MM/YYYY format. Provide format or specify infer_datetime_format=True for consistent parsing.\n",
      "  Student['DOB'] = pd.to_datetime(Student['DOB'], infer_datetime_format=True)\n",
      "C:\\Users\\Rejey Ezekiel\\AppData\\Local\\Temp\\ipykernel_17092\\4085476512.py:1: UserWarning: Parsing '26/02/1990' in DD/MM/YYYY format. Provide format or specify infer_datetime_format=True for consistent parsing.\n",
      "  Student['DOB'] = pd.to_datetime(Student['DOB'], infer_datetime_format=True)\n",
      "C:\\Users\\Rejey Ezekiel\\AppData\\Local\\Temp\\ipykernel_17092\\4085476512.py:1: UserWarning: Parsing '16-07-1991' in DD/MM/YYYY format. Provide format or specify infer_datetime_format=True for consistent parsing.\n",
      "  Student['DOB'] = pd.to_datetime(Student['DOB'], infer_datetime_format=True)\n",
      "C:\\Users\\Rejey Ezekiel\\AppData\\Local\\Temp\\ipykernel_17092\\4085476512.py:1: UserWarning: Parsing '15/10/1969' in DD/MM/YYYY format. Provide format or specify infer_datetime_format=True for consistent parsing.\n",
      "  Student['DOB'] = pd.to_datetime(Student['DOB'], infer_datetime_format=True)\n",
      "C:\\Users\\Rejey Ezekiel\\AppData\\Local\\Temp\\ipykernel_17092\\4085476512.py:1: UserWarning: Parsing '24/06/1970' in DD/MM/YYYY format. Provide format or specify infer_datetime_format=True for consistent parsing.\n",
      "  Student['DOB'] = pd.to_datetime(Student['DOB'], infer_datetime_format=True)\n",
      "C:\\Users\\Rejey Ezekiel\\AppData\\Local\\Temp\\ipykernel_17092\\4085476512.py:1: UserWarning: Parsing '14/02/1994' in DD/MM/YYYY format. Provide format or specify infer_datetime_format=True for consistent parsing.\n",
      "  Student['DOB'] = pd.to_datetime(Student['DOB'], infer_datetime_format=True)\n",
      "C:\\Users\\Rejey Ezekiel\\AppData\\Local\\Temp\\ipykernel_17092\\4085476512.py:1: UserWarning: Parsing '13/02/1977' in DD/MM/YYYY format. Provide format or specify infer_datetime_format=True for consistent parsing.\n",
      "  Student['DOB'] = pd.to_datetime(Student['DOB'], infer_datetime_format=True)\n",
      "C:\\Users\\Rejey Ezekiel\\AppData\\Local\\Temp\\ipykernel_17092\\4085476512.py:1: UserWarning: Parsing '27/08/1977' in DD/MM/YYYY format. Provide format or specify infer_datetime_format=True for consistent parsing.\n",
      "  Student['DOB'] = pd.to_datetime(Student['DOB'], infer_datetime_format=True)\n",
      "C:\\Users\\Rejey Ezekiel\\AppData\\Local\\Temp\\ipykernel_17092\\4085476512.py:1: UserWarning: Parsing '17/01/1988' in DD/MM/YYYY format. Provide format or specify infer_datetime_format=True for consistent parsing.\n",
      "  Student['DOB'] = pd.to_datetime(Student['DOB'], infer_datetime_format=True)\n",
      "C:\\Users\\Rejey Ezekiel\\AppData\\Local\\Temp\\ipykernel_17092\\4085476512.py:1: UserWarning: Parsing '13/09/1987' in DD/MM/YYYY format. Provide format or specify infer_datetime_format=True for consistent parsing.\n",
      "  Student['DOB'] = pd.to_datetime(Student['DOB'], infer_datetime_format=True)\n",
      "C:\\Users\\Rejey Ezekiel\\AppData\\Local\\Temp\\ipykernel_17092\\4085476512.py:1: UserWarning: Parsing '20/01/1988' in DD/MM/YYYY format. Provide format or specify infer_datetime_format=True for consistent parsing.\n",
      "  Student['DOB'] = pd.to_datetime(Student['DOB'], infer_datetime_format=True)\n",
      "C:\\Users\\Rejey Ezekiel\\AppData\\Local\\Temp\\ipykernel_17092\\4085476512.py:1: UserWarning: Parsing '16/02/1991' in DD/MM/YYYY format. Provide format or specify infer_datetime_format=True for consistent parsing.\n",
      "  Student['DOB'] = pd.to_datetime(Student['DOB'], infer_datetime_format=True)\n",
      "C:\\Users\\Rejey Ezekiel\\AppData\\Local\\Temp\\ipykernel_17092\\4085476512.py:1: UserWarning: Parsing '28/12/1998' in DD/MM/YYYY format. Provide format or specify infer_datetime_format=True for consistent parsing.\n",
      "  Student['DOB'] = pd.to_datetime(Student['DOB'], infer_datetime_format=True)\n",
      "C:\\Users\\Rejey Ezekiel\\AppData\\Local\\Temp\\ipykernel_17092\\4085476512.py:1: UserWarning: Parsing '16/03/1980' in DD/MM/YYYY format. Provide format or specify infer_datetime_format=True for consistent parsing.\n",
      "  Student['DOB'] = pd.to_datetime(Student['DOB'], infer_datetime_format=True)\n",
      "C:\\Users\\Rejey Ezekiel\\AppData\\Local\\Temp\\ipykernel_17092\\4085476512.py:1: UserWarning: Parsing '21/09/1990' in DD/MM/YYYY format. Provide format or specify infer_datetime_format=True for consistent parsing.\n",
      "  Student['DOB'] = pd.to_datetime(Student['DOB'], infer_datetime_format=True)\n",
      "C:\\Users\\Rejey Ezekiel\\AppData\\Local\\Temp\\ipykernel_17092\\4085476512.py:1: UserWarning: Parsing '23/01/1974' in DD/MM/YYYY format. Provide format or specify infer_datetime_format=True for consistent parsing.\n",
      "  Student['DOB'] = pd.to_datetime(Student['DOB'], infer_datetime_format=True)\n",
      "C:\\Users\\Rejey Ezekiel\\AppData\\Local\\Temp\\ipykernel_17092\\4085476512.py:1: UserWarning: Parsing '22/05/1978' in DD/MM/YYYY format. Provide format or specify infer_datetime_format=True for consistent parsing.\n",
      "  Student['DOB'] = pd.to_datetime(Student['DOB'], infer_datetime_format=True)\n",
      "C:\\Users\\Rejey Ezekiel\\AppData\\Local\\Temp\\ipykernel_17092\\4085476512.py:1: UserWarning: Parsing '23/10/1985' in DD/MM/YYYY format. Provide format or specify infer_datetime_format=True for consistent parsing.\n",
      "  Student['DOB'] = pd.to_datetime(Student['DOB'], infer_datetime_format=True)\n",
      "C:\\Users\\Rejey Ezekiel\\AppData\\Local\\Temp\\ipykernel_17092\\4085476512.py:1: UserWarning: Parsing '18/11/1983' in DD/MM/YYYY format. Provide format or specify infer_datetime_format=True for consistent parsing.\n",
      "  Student['DOB'] = pd.to_datetime(Student['DOB'], infer_datetime_format=True)\n",
      "C:\\Users\\Rejey Ezekiel\\AppData\\Local\\Temp\\ipykernel_17092\\4085476512.py:1: UserWarning: Parsing '22/07/1992' in DD/MM/YYYY format. Provide format or specify infer_datetime_format=True for consistent parsing.\n",
      "  Student['DOB'] = pd.to_datetime(Student['DOB'], infer_datetime_format=True)\n",
      "C:\\Users\\Rejey Ezekiel\\AppData\\Local\\Temp\\ipykernel_17092\\4085476512.py:1: UserWarning: Parsing '25/07/1982' in DD/MM/YYYY format. Provide format or specify infer_datetime_format=True for consistent parsing.\n",
      "  Student['DOB'] = pd.to_datetime(Student['DOB'], infer_datetime_format=True)\n",
      "C:\\Users\\Rejey Ezekiel\\AppData\\Local\\Temp\\ipykernel_17092\\4085476512.py:1: UserWarning: Parsing '30/11/1962' in DD/MM/YYYY format. Provide format or specify infer_datetime_format=True for consistent parsing.\n",
      "  Student['DOB'] = pd.to_datetime(Student['DOB'], infer_datetime_format=True)\n",
      "C:\\Users\\Rejey Ezekiel\\AppData\\Local\\Temp\\ipykernel_17092\\4085476512.py:1: UserWarning: Parsing '22/03/1983' in DD/MM/YYYY format. Provide format or specify infer_datetime_format=True for consistent parsing.\n",
      "  Student['DOB'] = pd.to_datetime(Student['DOB'], infer_datetime_format=True)\n",
      "C:\\Users\\Rejey Ezekiel\\AppData\\Local\\Temp\\ipykernel_17092\\4085476512.py:1: UserWarning: Parsing '29/04/1992' in DD/MM/YYYY format. Provide format or specify infer_datetime_format=True for consistent parsing.\n",
      "  Student['DOB'] = pd.to_datetime(Student['DOB'], infer_datetime_format=True)\n",
      "C:\\Users\\Rejey Ezekiel\\AppData\\Local\\Temp\\ipykernel_17092\\4085476512.py:1: UserWarning: Parsing '24/07/1989' in DD/MM/YYYY format. Provide format or specify infer_datetime_format=True for consistent parsing.\n",
      "  Student['DOB'] = pd.to_datetime(Student['DOB'], infer_datetime_format=True)\n",
      "C:\\Users\\Rejey Ezekiel\\AppData\\Local\\Temp\\ipykernel_17092\\4085476512.py:1: UserWarning: Parsing '18/07/1993' in DD/MM/YYYY format. Provide format or specify infer_datetime_format=True for consistent parsing.\n",
      "  Student['DOB'] = pd.to_datetime(Student['DOB'], infer_datetime_format=True)\n",
      "C:\\Users\\Rejey Ezekiel\\AppData\\Local\\Temp\\ipykernel_17092\\4085476512.py:1: UserWarning: Parsing '21/07/1982' in DD/MM/YYYY format. Provide format or specify infer_datetime_format=True for consistent parsing.\n",
      "  Student['DOB'] = pd.to_datetime(Student['DOB'], infer_datetime_format=True)\n",
      "C:\\Users\\Rejey Ezekiel\\AppData\\Local\\Temp\\ipykernel_17092\\4085476512.py:1: UserWarning: Parsing '13/01/1972' in DD/MM/YYYY format. Provide format or specify infer_datetime_format=True for consistent parsing.\n",
      "  Student['DOB'] = pd.to_datetime(Student['DOB'], infer_datetime_format=True)\n",
      "C:\\Users\\Rejey Ezekiel\\AppData\\Local\\Temp\\ipykernel_17092\\4085476512.py:1: UserWarning: Parsing '13/03/1977' in DD/MM/YYYY format. Provide format or specify infer_datetime_format=True for consistent parsing.\n",
      "  Student['DOB'] = pd.to_datetime(Student['DOB'], infer_datetime_format=True)\n",
      "C:\\Users\\Rejey Ezekiel\\AppData\\Local\\Temp\\ipykernel_17092\\4085476512.py:1: UserWarning: Parsing '16/10/1986' in DD/MM/YYYY format. Provide format or specify infer_datetime_format=True for consistent parsing.\n",
      "  Student['DOB'] = pd.to_datetime(Student['DOB'], infer_datetime_format=True)\n",
      "C:\\Users\\Rejey Ezekiel\\AppData\\Local\\Temp\\ipykernel_17092\\4085476512.py:1: UserWarning: Parsing '20/05/1982' in DD/MM/YYYY format. Provide format or specify infer_datetime_format=True for consistent parsing.\n",
      "  Student['DOB'] = pd.to_datetime(Student['DOB'], infer_datetime_format=True)\n",
      "C:\\Users\\Rejey Ezekiel\\AppData\\Local\\Temp\\ipykernel_17092\\4085476512.py:1: UserWarning: Parsing '28/11/1983' in DD/MM/YYYY format. Provide format or specify infer_datetime_format=True for consistent parsing.\n",
      "  Student['DOB'] = pd.to_datetime(Student['DOB'], infer_datetime_format=True)\n",
      "C:\\Users\\Rejey Ezekiel\\AppData\\Local\\Temp\\ipykernel_17092\\4085476512.py:1: UserWarning: Parsing '13/10/1973' in DD/MM/YYYY format. Provide format or specify infer_datetime_format=True for consistent parsing.\n",
      "  Student['DOB'] = pd.to_datetime(Student['DOB'], infer_datetime_format=True)\n",
      "C:\\Users\\Rejey Ezekiel\\AppData\\Local\\Temp\\ipykernel_17092\\4085476512.py:1: UserWarning: Parsing '28/02/1985' in DD/MM/YYYY format. Provide format or specify infer_datetime_format=True for consistent parsing.\n",
      "  Student['DOB'] = pd.to_datetime(Student['DOB'], infer_datetime_format=True)\n",
      "C:\\Users\\Rejey Ezekiel\\AppData\\Local\\Temp\\ipykernel_17092\\4085476512.py:1: UserWarning: Parsing '23/04/1993' in DD/MM/YYYY format. Provide format or specify infer_datetime_format=True for consistent parsing.\n",
      "  Student['DOB'] = pd.to_datetime(Student['DOB'], infer_datetime_format=True)\n",
      "C:\\Users\\Rejey Ezekiel\\AppData\\Local\\Temp\\ipykernel_17092\\4085476512.py:1: UserWarning: Parsing '16/09/1967' in DD/MM/YYYY format. Provide format or specify infer_datetime_format=True for consistent parsing.\n",
      "  Student['DOB'] = pd.to_datetime(Student['DOB'], infer_datetime_format=True)\n",
      "C:\\Users\\Rejey Ezekiel\\AppData\\Local\\Temp\\ipykernel_17092\\4085476512.py:1: UserWarning: Parsing '16/10/1977' in DD/MM/YYYY format. Provide format or specify infer_datetime_format=True for consistent parsing.\n",
      "  Student['DOB'] = pd.to_datetime(Student['DOB'], infer_datetime_format=True)\n",
      "C:\\Users\\Rejey Ezekiel\\AppData\\Local\\Temp\\ipykernel_17092\\4085476512.py:1: UserWarning: Parsing '22/02/1989' in DD/MM/YYYY format. Provide format or specify infer_datetime_format=True for consistent parsing.\n",
      "  Student['DOB'] = pd.to_datetime(Student['DOB'], infer_datetime_format=True)\n",
      "C:\\Users\\Rejey Ezekiel\\AppData\\Local\\Temp\\ipykernel_17092\\4085476512.py:1: UserWarning: Parsing '24/02/1984' in DD/MM/YYYY format. Provide format or specify infer_datetime_format=True for consistent parsing.\n",
      "  Student['DOB'] = pd.to_datetime(Student['DOB'], infer_datetime_format=True)\n",
      "C:\\Users\\Rejey Ezekiel\\AppData\\Local\\Temp\\ipykernel_17092\\4085476512.py:1: UserWarning: Parsing '18/07/1983' in DD/MM/YYYY format. Provide format or specify infer_datetime_format=True for consistent parsing.\n",
      "  Student['DOB'] = pd.to_datetime(Student['DOB'], infer_datetime_format=True)\n",
      "C:\\Users\\Rejey Ezekiel\\AppData\\Local\\Temp\\ipykernel_17092\\4085476512.py:1: UserWarning: Parsing '18/08/1981' in DD/MM/YYYY format. Provide format or specify infer_datetime_format=True for consistent parsing.\n",
      "  Student['DOB'] = pd.to_datetime(Student['DOB'], infer_datetime_format=True)\n",
      "C:\\Users\\Rejey Ezekiel\\AppData\\Local\\Temp\\ipykernel_17092\\4085476512.py:1: UserWarning: Parsing '23/03/1984' in DD/MM/YYYY format. Provide format or specify infer_datetime_format=True for consistent parsing.\n",
      "  Student['DOB'] = pd.to_datetime(Student['DOB'], infer_datetime_format=True)\n",
      "C:\\Users\\Rejey Ezekiel\\AppData\\Local\\Temp\\ipykernel_17092\\4085476512.py:1: UserWarning: Parsing '17/03/1967' in DD/MM/YYYY format. Provide format or specify infer_datetime_format=True for consistent parsing.\n",
      "  Student['DOB'] = pd.to_datetime(Student['DOB'], infer_datetime_format=True)\n",
      "C:\\Users\\Rejey Ezekiel\\AppData\\Local\\Temp\\ipykernel_17092\\4085476512.py:1: UserWarning: Parsing '15/01/1984' in DD/MM/YYYY format. Provide format or specify infer_datetime_format=True for consistent parsing.\n",
      "  Student['DOB'] = pd.to_datetime(Student['DOB'], infer_datetime_format=True)\n",
      "C:\\Users\\Rejey Ezekiel\\AppData\\Local\\Temp\\ipykernel_17092\\4085476512.py:1: UserWarning: Parsing '27/09/1978' in DD/MM/YYYY format. Provide format or specify infer_datetime_format=True for consistent parsing.\n",
      "  Student['DOB'] = pd.to_datetime(Student['DOB'], infer_datetime_format=True)\n",
      "C:\\Users\\Rejey Ezekiel\\AppData\\Local\\Temp\\ipykernel_17092\\4085476512.py:1: UserWarning: Parsing '27/11/1986' in DD/MM/YYYY format. Provide format or specify infer_datetime_format=True for consistent parsing.\n",
      "  Student['DOB'] = pd.to_datetime(Student['DOB'], infer_datetime_format=True)\n",
      "C:\\Users\\Rejey Ezekiel\\AppData\\Local\\Temp\\ipykernel_17092\\4085476512.py:1: UserWarning: Parsing '18/04/1990' in DD/MM/YYYY format. Provide format or specify infer_datetime_format=True for consistent parsing.\n",
      "  Student['DOB'] = pd.to_datetime(Student['DOB'], infer_datetime_format=True)\n",
      "C:\\Users\\Rejey Ezekiel\\AppData\\Local\\Temp\\ipykernel_17092\\4085476512.py:1: UserWarning: Parsing '21/10/1991' in DD/MM/YYYY format. Provide format or specify infer_datetime_format=True for consistent parsing.\n",
      "  Student['DOB'] = pd.to_datetime(Student['DOB'], infer_datetime_format=True)\n",
      "C:\\Users\\Rejey Ezekiel\\AppData\\Local\\Temp\\ipykernel_17092\\4085476512.py:1: UserWarning: Parsing '31/10/1984' in DD/MM/YYYY format. Provide format or specify infer_datetime_format=True for consistent parsing.\n",
      "  Student['DOB'] = pd.to_datetime(Student['DOB'], infer_datetime_format=True)\n",
      "C:\\Users\\Rejey Ezekiel\\AppData\\Local\\Temp\\ipykernel_17092\\4085476512.py:1: UserWarning: Parsing '16/08/1988' in DD/MM/YYYY format. Provide format or specify infer_datetime_format=True for consistent parsing.\n",
      "  Student['DOB'] = pd.to_datetime(Student['DOB'], infer_datetime_format=True)\n",
      "C:\\Users\\Rejey Ezekiel\\AppData\\Local\\Temp\\ipykernel_17092\\4085476512.py:1: UserWarning: Parsing '14/03/1984' in DD/MM/YYYY format. Provide format or specify infer_datetime_format=True for consistent parsing.\n",
      "  Student['DOB'] = pd.to_datetime(Student['DOB'], infer_datetime_format=True)\n",
      "C:\\Users\\Rejey Ezekiel\\AppData\\Local\\Temp\\ipykernel_17092\\4085476512.py:1: UserWarning: Parsing '16/08/1970' in DD/MM/YYYY format. Provide format or specify infer_datetime_format=True for consistent parsing.\n",
      "  Student['DOB'] = pd.to_datetime(Student['DOB'], infer_datetime_format=True)\n",
      "C:\\Users\\Rejey Ezekiel\\AppData\\Local\\Temp\\ipykernel_17092\\4085476512.py:1: UserWarning: Parsing '20/03/1989' in DD/MM/YYYY format. Provide format or specify infer_datetime_format=True for consistent parsing.\n",
      "  Student['DOB'] = pd.to_datetime(Student['DOB'], infer_datetime_format=True)\n",
      "C:\\Users\\Rejey Ezekiel\\AppData\\Local\\Temp\\ipykernel_17092\\4085476512.py:1: UserWarning: Parsing '24/02/1982' in DD/MM/YYYY format. Provide format or specify infer_datetime_format=True for consistent parsing.\n",
      "  Student['DOB'] = pd.to_datetime(Student['DOB'], infer_datetime_format=True)\n",
      "C:\\Users\\Rejey Ezekiel\\AppData\\Local\\Temp\\ipykernel_17092\\4085476512.py:1: UserWarning: Parsing '16/07/1985' in DD/MM/YYYY format. Provide format or specify infer_datetime_format=True for consistent parsing.\n",
      "  Student['DOB'] = pd.to_datetime(Student['DOB'], infer_datetime_format=True)\n",
      "C:\\Users\\Rejey Ezekiel\\AppData\\Local\\Temp\\ipykernel_17092\\4085476512.py:1: UserWarning: Parsing '21/03/1992' in DD/MM/YYYY format. Provide format or specify infer_datetime_format=True for consistent parsing.\n",
      "  Student['DOB'] = pd.to_datetime(Student['DOB'], infer_datetime_format=True)\n",
      "C:\\Users\\Rejey Ezekiel\\AppData\\Local\\Temp\\ipykernel_17092\\4085476512.py:1: UserWarning: Parsing '29/03/1983' in DD/MM/YYYY format. Provide format or specify infer_datetime_format=True for consistent parsing.\n",
      "  Student['DOB'] = pd.to_datetime(Student['DOB'], infer_datetime_format=True)\n",
      "C:\\Users\\Rejey Ezekiel\\AppData\\Local\\Temp\\ipykernel_17092\\4085476512.py:1: UserWarning: Parsing '16/02/1984' in DD/MM/YYYY format. Provide format or specify infer_datetime_format=True for consistent parsing.\n",
      "  Student['DOB'] = pd.to_datetime(Student['DOB'], infer_datetime_format=True)\n",
      "C:\\Users\\Rejey Ezekiel\\AppData\\Local\\Temp\\ipykernel_17092\\4085476512.py:1: UserWarning: Parsing '17/07/1983' in DD/MM/YYYY format. Provide format or specify infer_datetime_format=True for consistent parsing.\n",
      "  Student['DOB'] = pd.to_datetime(Student['DOB'], infer_datetime_format=True)\n",
      "C:\\Users\\Rejey Ezekiel\\AppData\\Local\\Temp\\ipykernel_17092\\4085476512.py:1: UserWarning: Parsing '22/01/1983' in DD/MM/YYYY format. Provide format or specify infer_datetime_format=True for consistent parsing.\n",
      "  Student['DOB'] = pd.to_datetime(Student['DOB'], infer_datetime_format=True)\n",
      "C:\\Users\\Rejey Ezekiel\\AppData\\Local\\Temp\\ipykernel_17092\\4085476512.py:1: UserWarning: Parsing '17/10/1982' in DD/MM/YYYY format. Provide format or specify infer_datetime_format=True for consistent parsing.\n",
      "  Student['DOB'] = pd.to_datetime(Student['DOB'], infer_datetime_format=True)\n",
      "C:\\Users\\Rejey Ezekiel\\AppData\\Local\\Temp\\ipykernel_17092\\4085476512.py:1: UserWarning: Parsing '27/03/1986' in DD/MM/YYYY format. Provide format or specify infer_datetime_format=True for consistent parsing.\n",
      "  Student['DOB'] = pd.to_datetime(Student['DOB'], infer_datetime_format=True)\n",
      "C:\\Users\\Rejey Ezekiel\\AppData\\Local\\Temp\\ipykernel_17092\\4085476512.py:1: UserWarning: Parsing '23/09/1975' in DD/MM/YYYY format. Provide format or specify infer_datetime_format=True for consistent parsing.\n",
      "  Student['DOB'] = pd.to_datetime(Student['DOB'], infer_datetime_format=True)\n",
      "C:\\Users\\Rejey Ezekiel\\AppData\\Local\\Temp\\ipykernel_17092\\4085476512.py:1: UserWarning: Parsing '26/01/1984' in DD/MM/YYYY format. Provide format or specify infer_datetime_format=True for consistent parsing.\n",
      "  Student['DOB'] = pd.to_datetime(Student['DOB'], infer_datetime_format=True)\n",
      "C:\\Users\\Rejey Ezekiel\\AppData\\Local\\Temp\\ipykernel_17092\\4085476512.py:1: UserWarning: Parsing '31/10/1969' in DD/MM/YYYY format. Provide format or specify infer_datetime_format=True for consistent parsing.\n",
      "  Student['DOB'] = pd.to_datetime(Student['DOB'], infer_datetime_format=True)\n",
      "C:\\Users\\Rejey Ezekiel\\AppData\\Local\\Temp\\ipykernel_17092\\4085476512.py:1: UserWarning: Parsing '14/11/1972' in DD/MM/YYYY format. Provide format or specify infer_datetime_format=True for consistent parsing.\n",
      "  Student['DOB'] = pd.to_datetime(Student['DOB'], infer_datetime_format=True)\n",
      "C:\\Users\\Rejey Ezekiel\\AppData\\Local\\Temp\\ipykernel_17092\\4085476512.py:1: UserWarning: Parsing '22/06/1985' in DD/MM/YYYY format. Provide format or specify infer_datetime_format=True for consistent parsing.\n",
      "  Student['DOB'] = pd.to_datetime(Student['DOB'], infer_datetime_format=True)\n",
      "C:\\Users\\Rejey Ezekiel\\AppData\\Local\\Temp\\ipykernel_17092\\4085476512.py:1: UserWarning: Parsing '29/04/1974' in DD/MM/YYYY format. Provide format or specify infer_datetime_format=True for consistent parsing.\n",
      "  Student['DOB'] = pd.to_datetime(Student['DOB'], infer_datetime_format=True)\n",
      "C:\\Users\\Rejey Ezekiel\\AppData\\Local\\Temp\\ipykernel_17092\\4085476512.py:1: UserWarning: Parsing '19/10/1981' in DD/MM/YYYY format. Provide format or specify infer_datetime_format=True for consistent parsing.\n",
      "  Student['DOB'] = pd.to_datetime(Student['DOB'], infer_datetime_format=True)\n",
      "C:\\Users\\Rejey Ezekiel\\AppData\\Local\\Temp\\ipykernel_17092\\4085476512.py:1: UserWarning: Parsing '19/03/1989' in DD/MM/YYYY format. Provide format or specify infer_datetime_format=True for consistent parsing.\n",
      "  Student['DOB'] = pd.to_datetime(Student['DOB'], infer_datetime_format=True)\n",
      "C:\\Users\\Rejey Ezekiel\\AppData\\Local\\Temp\\ipykernel_17092\\4085476512.py:1: UserWarning: Parsing '28/11/1998' in DD/MM/YYYY format. Provide format or specify infer_datetime_format=True for consistent parsing.\n",
      "  Student['DOB'] = pd.to_datetime(Student['DOB'], infer_datetime_format=True)\n",
      "C:\\Users\\Rejey Ezekiel\\AppData\\Local\\Temp\\ipykernel_17092\\4085476512.py:1: UserWarning: Parsing '14/01/1991' in DD/MM/YYYY format. Provide format or specify infer_datetime_format=True for consistent parsing.\n",
      "  Student['DOB'] = pd.to_datetime(Student['DOB'], infer_datetime_format=True)\n",
      "C:\\Users\\Rejey Ezekiel\\AppData\\Local\\Temp\\ipykernel_17092\\4085476512.py:1: UserWarning: Parsing '18/08/1978' in DD/MM/YYYY format. Provide format or specify infer_datetime_format=True for consistent parsing.\n",
      "  Student['DOB'] = pd.to_datetime(Student['DOB'], infer_datetime_format=True)\n",
      "C:\\Users\\Rejey Ezekiel\\AppData\\Local\\Temp\\ipykernel_17092\\4085476512.py:1: UserWarning: Parsing '18/11/1991' in DD/MM/YYYY format. Provide format or specify infer_datetime_format=True for consistent parsing.\n",
      "  Student['DOB'] = pd.to_datetime(Student['DOB'], infer_datetime_format=True)\n",
      "C:\\Users\\Rejey Ezekiel\\AppData\\Local\\Temp\\ipykernel_17092\\4085476512.py:1: UserWarning: Parsing '27/07/1990' in DD/MM/YYYY format. Provide format or specify infer_datetime_format=True for consistent parsing.\n",
      "  Student['DOB'] = pd.to_datetime(Student['DOB'], infer_datetime_format=True)\n",
      "C:\\Users\\Rejey Ezekiel\\AppData\\Local\\Temp\\ipykernel_17092\\4085476512.py:1: UserWarning: Parsing '17/01/1986' in DD/MM/YYYY format. Provide format or specify infer_datetime_format=True for consistent parsing.\n",
      "  Student['DOB'] = pd.to_datetime(Student['DOB'], infer_datetime_format=True)\n",
      "C:\\Users\\Rejey Ezekiel\\AppData\\Local\\Temp\\ipykernel_17092\\4085476512.py:1: UserWarning: Parsing '21/10/1996' in DD/MM/YYYY format. Provide format or specify infer_datetime_format=True for consistent parsing.\n",
      "  Student['DOB'] = pd.to_datetime(Student['DOB'], infer_datetime_format=True)\n",
      "C:\\Users\\Rejey Ezekiel\\AppData\\Local\\Temp\\ipykernel_17092\\4085476512.py:1: UserWarning: Parsing '17/07/1979' in DD/MM/YYYY format. Provide format or specify infer_datetime_format=True for consistent parsing.\n",
      "  Student['DOB'] = pd.to_datetime(Student['DOB'], infer_datetime_format=True)\n",
      "C:\\Users\\Rejey Ezekiel\\AppData\\Local\\Temp\\ipykernel_17092\\4085476512.py:1: UserWarning: Parsing '22/09/1990' in DD/MM/YYYY format. Provide format or specify infer_datetime_format=True for consistent parsing.\n",
      "  Student['DOB'] = pd.to_datetime(Student['DOB'], infer_datetime_format=True)\n",
      "C:\\Users\\Rejey Ezekiel\\AppData\\Local\\Temp\\ipykernel_17092\\4085476512.py:1: UserWarning: Parsing '30/09/1982' in DD/MM/YYYY format. Provide format or specify infer_datetime_format=True for consistent parsing.\n",
      "  Student['DOB'] = pd.to_datetime(Student['DOB'], infer_datetime_format=True)\n",
      "C:\\Users\\Rejey Ezekiel\\AppData\\Local\\Temp\\ipykernel_17092\\4085476512.py:1: UserWarning: Parsing '14/11/1981' in DD/MM/YYYY format. Provide format or specify infer_datetime_format=True for consistent parsing.\n",
      "  Student['DOB'] = pd.to_datetime(Student['DOB'], infer_datetime_format=True)\n",
      "C:\\Users\\Rejey Ezekiel\\AppData\\Local\\Temp\\ipykernel_17092\\4085476512.py:1: UserWarning: Parsing '28/01/1983' in DD/MM/YYYY format. Provide format or specify infer_datetime_format=True for consistent parsing.\n",
      "  Student['DOB'] = pd.to_datetime(Student['DOB'], infer_datetime_format=True)\n"
     ]
    }
   ],
   "source": [
    "Student['DOB'] = pd.to_datetime(Student['DOB'], infer_datetime_format=True)\n",
    "Student['DOB'] = Student['DOB'].astype('datetime64[ns]')"
   ]
  },
  {
   "cell_type": "code",
   "execution_count": 159,
   "metadata": {},
   "outputs": [],
   "source": [
    "Student.loc[Student['REGISTRATION FEE'] == '107\\n107','REGISTRATION FEE'] = 107\n",
    "Student.loc[Student['REGISTRATION FEE'] == 'Waived','REGISTRATION FEE'] = 0\n"
   ]
  },
  {
   "cell_type": "code",
   "execution_count": 160,
   "metadata": {},
   "outputs": [
    {
     "data": {
      "text/plain": [
       "array(['Individual - SFC', 'Individual', 'Sponsored - no SDF',\n",
       "       'Sponsored', 'Individual   ', 'Individual ', 'Individual-SFC',\n",
       "       'Sponsored ', 'Individual - waived App Fee',\n",
       "       'Individual - SFC + $1000 SCHOLARSHIP', 'Indivodual',\n",
       "       'Sponsored   ', 'Individual  ', 'Sponsored  ', 'Sponsored-no SDF',\n",
       "       'Indvidual - SFC', 'Sponsored - SDF'], dtype=object)"
      ]
     },
     "execution_count": 160,
     "metadata": {},
     "output_type": "execute_result"
    }
   ],
   "source": [
    "Student['COURSE FUNDING'].unique()"
   ]
  },
  {
   "cell_type": "code",
   "execution_count": 161,
   "metadata": {},
   "outputs": [],
   "source": [
    "Student.loc[Student['COURSE FUNDING'].isin(['Individual','Individual   ','Individual ', 'Indivodual','Individual  ','Individual - SFC + $1000 SCHOLARSHIP']), 'COURSE FUNDING'] = 'Individual'\n",
    "Student.loc[Student['COURSE FUNDING'].isin(['Sponsored','Sponsored ', 'Sponsored  ','Sponsored   ','Sponsored - no SDF','Sponsored-no SDF','Sponsored - SDF']), 'COURSE FUNDING'] = 'Sponsored'\n",
    "Student.loc[Student['COURSE FUNDING'].isin(['Individual - SFC','Individual-SFC','Indvidual - SFC']), 'COURSE FUNDING'] = 'Individual - SFC'\n",
    "Student.loc[Student['COURSE FUNDING'].isin(['Sponsored - no SDF','Sponsored-no SDF']), 'COURSE FUNDING'] = 'Sponsored - No SDF'"
   ]
  },
  {
   "cell_type": "code",
   "execution_count": 162,
   "metadata": {},
   "outputs": [],
   "source": [
    "Student['INTAKE NO'] = Student['INTAKE NO'].str.replace('rd', 'th')"
   ]
  },
  {
   "cell_type": "code",
   "execution_count": 163,
   "metadata": {},
   "outputs": [],
   "source": [
    "Student.loc[Student['NAME OF QUALIFICATION AND INSTITUTION'].isin([' ','-', ]), 'NAME OF QUALIFICATION AND INSTITUTION'] = 'Unknown Institution / Qualification'"
   ]
  },
  {
   "cell_type": "code",
   "execution_count": 164,
   "metadata": {},
   "outputs": [],
   "source": [
    "Student['DESIGNATION'] = Student['DESIGNATION'].str.rstrip()\n",
    "Student.loc[Student['DESIGNATION'] == '-','DESIGNATION'] = 'No Designation'"
   ]
  },
  {
   "cell_type": "code",
   "execution_count": 165,
   "metadata": {},
   "outputs": [
    {
     "data": {
      "text/plain": [
       "145"
      ]
     },
     "execution_count": 165,
     "metadata": {},
     "output_type": "execute_result"
    }
   ],
   "source": [
    "Student.DESIGNATION.nunique()"
   ]
  },
  {
   "cell_type": "code",
   "execution_count": 166,
   "metadata": {},
   "outputs": [],
   "source": [
    "Student['NATIONALITY'] = Student['NATIONALITY'].str.strip().str.replace('\\n', ' ').str.replace('  ', ' ')\n",
    "Student.loc[Student['NATIONALITY'] == 'Malaysian(PR)','NATIONALITY'] = 'Malaysian (PR)'"
   ]
  },
  {
   "cell_type": "code",
   "execution_count": 167,
   "metadata": {},
   "outputs": [
    {
     "data": {
      "text/plain": [
       "array(['Singaporean', 'Malaysian (PR)', 'Chinese', 'Malaysian', 'Indian',\n",
       "       'Netherlands', 'Indian (PR)', 'Chinese (PR)', 'Filipino',\n",
       "       'Filipino (PR)', 'Vietnamese', 'Myanmar', 'China (PR)',\n",
       "       'Chinese (China)', 'Indonesian (PR)'], dtype=object)"
      ]
     },
     "execution_count": 167,
     "metadata": {},
     "output_type": "execute_result"
    }
   ],
   "source": [
    "Student['NATIONALITY'].unique()"
   ]
  },
  {
   "cell_type": "code",
   "execution_count": 168,
   "metadata": {},
   "outputs": [
    {
     "data": {
      "text/plain": [
       "array(['Certificate', 'Degree', 'Diploma', 'Master', 'Graduate Diploma',\n",
       "       'No Qualifications'], dtype=object)"
      ]
     },
     "execution_count": 168,
     "metadata": {},
     "output_type": "execute_result"
    }
   ],
   "source": [
    "Student['HIGHEST QUALIFICATION'].unique()"
   ]
  },
  {
   "cell_type": "code",
   "execution_count": 169,
   "metadata": {
    "vscode": {
     "languageId": "ruby"
    }
   },
   "outputs": [
    {
     "data": {
      "text/plain": [
       "array([ 456,  455,  457,  270,  268,  274,  273,  -58,   61,   51, -306,\n",
       "         56,    1,   60,   58,   53,  181,  183,  180], dtype=int64)"
      ]
     },
     "execution_count": 169,
     "metadata": {},
     "output_type": "execute_result"
    }
   ],
   "source": [
    "Student['date_diff'] = (Student['COMPLETION DATE'] - Student['COMMENCEMENT DATE']).dt.days\n",
    "Student['date_diff'].unique() "
   ]
  },
  {
   "cell_type": "code",
   "execution_count": 170,
   "metadata": {},
   "outputs": [],
   "source": [
    "# Identify rows where date_diff is -58 or -306 and swap the dates\n",
    "mask = (Student['date_diff'] == -58) | (Student['date_diff'] == -306)\n",
    "Student.loc[mask, ['COMPLETION DATE', 'COMMENCEMENT DATE']] = Student.loc[mask, ['COMMENCEMENT DATE', 'COMPLETION DATE']].values"
   ]
  },
  {
   "cell_type": "code",
   "execution_count": 171,
   "metadata": {},
   "outputs": [],
   "source": [
    "Student['COMPLETION DATE'] = pd.to_datetime(Student['COMPLETION DATE'], errors='coerce')\n",
    "Student['COMMENCEMENT DATE'] = pd.to_datetime(Student['COMMENCEMENT DATE'], errors='coerce')"
   ]
  },
  {
   "cell_type": "code",
   "execution_count": 172,
   "metadata": {},
   "outputs": [],
   "source": [
    "Student['date_diff'] = (Student['COMPLETION DATE'] - Student['COMMENCEMENT DATE']).dt.days"
   ]
  },
  {
   "cell_type": "code",
   "execution_count": 176,
   "metadata": {},
   "outputs": [
    {
     "data": {
      "text/plain": [
       "array(['Singaporean', 'Permanent Resident', 'Foreigner'], dtype=object)"
      ]
     },
     "execution_count": 176,
     "metadata": {},
     "output_type": "execute_result"
    }
   ],
   "source": [
    "Student['NATIONALITY'].unique()"
   ]
  },
  {
   "cell_type": "code",
   "execution_count": 175,
   "metadata": {},
   "outputs": [],
   "source": [
    "Student.loc[Student['NATIONALITY'].str.contains('PR', case=False), 'NATIONALITY'] = 'Permanent Resident'\n",
    "Student.loc[~Student['NATIONALITY'].isin(['Singaporean','Permanent Resident']), 'NATIONALITY'] = 'Foreigner'\n"
   ]
  },
  {
   "cell_type": "code",
   "execution_count": 177,
   "metadata": {},
   "outputs": [],
   "source": [
    "Student.to_csv('Student Profiles Wrangled.csv', index=False)"
   ]
  },
  {
   "cell_type": "code",
   "execution_count": null,
   "metadata": {},
   "outputs": [],
   "source": []
  }
 ],
 "metadata": {
  "kernelspec": {
   "display_name": "Python 3",
   "language": "python",
   "name": "python3"
  },
  "language_info": {
   "codemirror_mode": {
    "name": "ipython",
    "version": 3
   },
   "file_extension": ".py",
   "mimetype": "text/x-python",
   "name": "python",
   "nbconvert_exporter": "python",
   "pygments_lexer": "ipython3",
   "version": "3.9.12"
  }
 },
 "nbformat": 4,
 "nbformat_minor": 2
}
